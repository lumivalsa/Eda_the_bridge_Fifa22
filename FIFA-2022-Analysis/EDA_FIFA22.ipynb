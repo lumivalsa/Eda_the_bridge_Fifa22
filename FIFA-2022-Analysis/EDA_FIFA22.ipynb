{
 "cells": [
  {
   "cell_type": "markdown",
   "metadata": {},
   "source": [
    "![imagen](./img/ejercicios.png)"
   ]
  },
  {
   "cell_type": "markdown",
   "metadata": {},
   "source": [
    "# INFORMACIÓN DEL PROYECTO"
   ]
  },
  {
   "cell_type": "markdown",
   "metadata": {},
   "source": [
    "### TÍTULO"
   ]
  },
  {
   "cell_type": "code",
   "execution_count": null,
   "metadata": {},
   "outputs": [],
   "source": [
    "#Escribe el título del proyecto en Markdown\n",
    "titulo = \"EDA FIFA 22\""
   ]
  },
  {
   "cell_type": "markdown",
   "metadata": {},
   "source": [
    "### TEMA"
   ]
  },
  {
   "cell_type": "code",
   "execution_count": null,
   "metadata": {},
   "outputs": [],
   "source": [
    "# Describe brevemente el tema del proyecto en Markdown\n",
    "tema = \"Analisis del rendimiento y la eficiencia de los equipos, jugadores, países y otras cosas relacionadas mediante el análisis de datos y visualizaciones de datos\""
   ]
  },
  {
   "cell_type": "markdown",
   "metadata": {},
   "source": [
    "### HIPÓTESIS"
   ]
  },
  {
   "cell_type": "markdown",
   "metadata": {},
   "source": [
    "Define aquí lo que será la hipótesis de tu proyecto.\n",
    "Puede que tengas más de una, pero tu proyecto lo harás teniendo una principal hipótesis."
   ]
  },
  {
   "cell_type": "markdown",
   "metadata": {},
   "source": [
    "# Escribe tu hipótesis principal en Markdown\n",
    "Hipotesis Principal:\n",
    "Los jugadores mejoran sus habilidad futbolisticas con el pasar de los años. "
   ]
  },
  {
   "cell_type": "markdown",
   "metadata": {},
   "source": [
    "\n",
    "Hipotesis1:\n",
    "La edad del jugador tiene una relacion directa con la calificación\n",
    "Hipotesis2:\n",
    "El conjunto de habilidades de un jugador es influyente en su potencial. \n",
    "En base al conjunto de habilidades de un jugador se puede predecir su potencial"
   ]
  },
  {
   "cell_type": "markdown",
   "metadata": {},
   "source": [
    "## OBTENCIÓN DE LOS DATOS"
   ]
  },
  {
   "cell_type": "markdown",
   "metadata": {},
   "source": [
    "### DATASETS Y FUENTES ALTERNATIVAS DE DATOS"
   ]
  },
  {
   "cell_type": "markdown",
   "metadata": {},
   "source": [
    "Incluye aquí una vista del dataset o datasets de los que partirás para poder evaluar tu hipótesis. <br>\n",
    "También incluye el origen de estos datos y su fuente."
   ]
  },
  {
   "cell_type": "code",
   "execution_count": 2,
   "metadata": {},
   "outputs": [],
   "source": [
    "import pandas as pd\n",
    "import numpy as np\n"
   ]
  },
  {
   "cell_type": "markdown",
   "metadata": {},
   "source": [
    "Muestra mediante un head() los principales datasets con los que vas a trabajar"
   ]
  },
  {
   "cell_type": "code",
   "execution_count": 3,
   "metadata": {},
   "outputs": [],
   "source": [
    "fifa=pd.read_csv(\"/Users/luismi/Documents/Proyectos/Fifa22/FIFA-2022-Analysis/archive/FIFA22_official_data.csv\")"
   ]
  },
  {
   "cell_type": "code",
   "execution_count": 4,
   "metadata": {},
   "outputs": [
    {
     "name": "stdout",
     "output_type": "stream",
     "text": [
      "<class 'pandas.core.frame.DataFrame'>\n",
      "RangeIndex: 16710 entries, 0 to 16709\n",
      "Data columns (total 65 columns):\n",
      " #   Column                    Non-Null Count  Dtype  \n",
      "---  ------                    --------------  -----  \n",
      " 0   ID                        16710 non-null  int64  \n",
      " 1   Name                      16710 non-null  object \n",
      " 2   Age                       16710 non-null  int64  \n",
      " 3   Photo                     16710 non-null  object \n",
      " 4   Nationality               16710 non-null  object \n",
      " 5   Flag                      16710 non-null  object \n",
      " 6   Overall                   16710 non-null  int64  \n",
      " 7   Potential                 16710 non-null  int64  \n",
      " 8   Club                      16446 non-null  object \n",
      " 9   Club Logo                 16710 non-null  object \n",
      " 10  Value                     16710 non-null  object \n",
      " 11  Wage                      16710 non-null  object \n",
      " 12  Special                   16710 non-null  int64  \n",
      " 13  Preferred Foot            16710 non-null  object \n",
      " 14  International Reputation  16710 non-null  float64\n",
      " 15  Weak Foot                 16710 non-null  float64\n",
      " 16  Skill Moves               16710 non-null  float64\n",
      " 17  Work Rate                 16710 non-null  object \n",
      " 18  Body Type                 16681 non-null  object \n",
      " 19  Real Face                 16681 non-null  object \n",
      " 20  Position                  16684 non-null  object \n",
      " 21  Jersey Number             16684 non-null  float64\n",
      " 22  Joined                    15198 non-null  object \n",
      " 23  Loaned From               1132 non-null   object \n",
      " 24  Contract Valid Until      16359 non-null  object \n",
      " 25  Height                    16710 non-null  object \n",
      " 26  Weight                    16710 non-null  object \n",
      " 27  Crossing                  16710 non-null  float64\n",
      " 28  Finishing                 16710 non-null  float64\n",
      " 29  HeadingAccuracy           16710 non-null  float64\n",
      " 30  ShortPassing              16710 non-null  float64\n",
      " 31  Volleys                   16673 non-null  float64\n",
      " 32  Dribbling                 16710 non-null  float64\n",
      " 33  Curve                     16673 non-null  float64\n",
      " 34  FKAccuracy                16710 non-null  float64\n",
      " 35  LongPassing               16710 non-null  float64\n",
      " 36  BallControl               16710 non-null  float64\n",
      " 37  Acceleration              16710 non-null  float64\n",
      " 38  SprintSpeed               16710 non-null  float64\n",
      " 39  Agility                   16673 non-null  float64\n",
      " 40  Reactions                 16710 non-null  float64\n",
      " 41  Balance                   16673 non-null  float64\n",
      " 42  ShotPower                 16710 non-null  float64\n",
      " 43  Jumping                   16673 non-null  float64\n",
      " 44  Stamina                   16710 non-null  float64\n",
      " 45  Strength                  16710 non-null  float64\n",
      " 46  LongShots                 16710 non-null  float64\n",
      " 47  Aggression                16710 non-null  float64\n",
      " 48  Interceptions             16702 non-null  float64\n",
      " 49  Positioning               16702 non-null  float64\n",
      " 50  Vision                    16673 non-null  float64\n",
      " 51  Penalties                 16710 non-null  float64\n",
      " 52  Composure                 16459 non-null  float64\n",
      " 53  Marking                   892 non-null    float64\n",
      " 54  StandingTackle            16710 non-null  float64\n",
      " 55  SlidingTackle             16673 non-null  float64\n",
      " 56  GKDiving                  16710 non-null  float64\n",
      " 57  GKHandling                16710 non-null  float64\n",
      " 58  GKKicking                 16710 non-null  float64\n",
      " 59  GKPositioning             16710 non-null  float64\n",
      " 60  GKReflexes                16710 non-null  float64\n",
      " 61  Best Position             16710 non-null  object \n",
      " 62  Best Overall Rating       16710 non-null  float64\n",
      " 63  Release Clause            14961 non-null  object \n",
      " 64  DefensiveAwareness        15818 non-null  float64\n",
      "dtypes: float64(40), int64(5), object(20)\n",
      "memory usage: 8.3+ MB\n"
     ]
    }
   ],
   "source": [
    "fifa.info()"
   ]
  },
  {
   "cell_type": "code",
   "execution_count": 5,
   "metadata": {},
   "outputs": [
    {
     "data": {
      "text/html": [
       "<div>\n",
       "<style scoped>\n",
       "    .dataframe tbody tr th:only-of-type {\n",
       "        vertical-align: middle;\n",
       "    }\n",
       "\n",
       "    .dataframe tbody tr th {\n",
       "        vertical-align: top;\n",
       "    }\n",
       "\n",
       "    .dataframe thead th {\n",
       "        text-align: right;\n",
       "    }\n",
       "</style>\n",
       "<table border=\"1\" class=\"dataframe\">\n",
       "  <thead>\n",
       "    <tr style=\"text-align: right;\">\n",
       "      <th></th>\n",
       "      <th>ID</th>\n",
       "      <th>Name</th>\n",
       "      <th>Age</th>\n",
       "      <th>Photo</th>\n",
       "      <th>Nationality</th>\n",
       "      <th>Flag</th>\n",
       "      <th>Overall</th>\n",
       "      <th>Potential</th>\n",
       "      <th>Club</th>\n",
       "      <th>Club Logo</th>\n",
       "      <th>...</th>\n",
       "      <th>SlidingTackle</th>\n",
       "      <th>GKDiving</th>\n",
       "      <th>GKHandling</th>\n",
       "      <th>GKKicking</th>\n",
       "      <th>GKPositioning</th>\n",
       "      <th>GKReflexes</th>\n",
       "      <th>Best Position</th>\n",
       "      <th>Best Overall Rating</th>\n",
       "      <th>Release Clause</th>\n",
       "      <th>DefensiveAwareness</th>\n",
       "    </tr>\n",
       "  </thead>\n",
       "  <tbody>\n",
       "    <tr>\n",
       "      <th>0</th>\n",
       "      <td>212198</td>\n",
       "      <td>Bruno Fernandes</td>\n",
       "      <td>26</td>\n",
       "      <td>https://cdn.sofifa.com/players/212/198/22_60.png</td>\n",
       "      <td>Portugal</td>\n",
       "      <td>https://cdn.sofifa.com/flags/pt.png</td>\n",
       "      <td>88</td>\n",
       "      <td>89</td>\n",
       "      <td>Manchester United</td>\n",
       "      <td>https://cdn.sofifa.com/teams/11/30.png</td>\n",
       "      <td>...</td>\n",
       "      <td>65.0</td>\n",
       "      <td>12.0</td>\n",
       "      <td>14.0</td>\n",
       "      <td>15.0</td>\n",
       "      <td>8.0</td>\n",
       "      <td>14.0</td>\n",
       "      <td>CAM</td>\n",
       "      <td>88.0</td>\n",
       "      <td>€206.9M</td>\n",
       "      <td>72.0</td>\n",
       "    </tr>\n",
       "    <tr>\n",
       "      <th>1</th>\n",
       "      <td>209658</td>\n",
       "      <td>L. Goretzka</td>\n",
       "      <td>26</td>\n",
       "      <td>https://cdn.sofifa.com/players/209/658/22_60.png</td>\n",
       "      <td>Germany</td>\n",
       "      <td>https://cdn.sofifa.com/flags/de.png</td>\n",
       "      <td>87</td>\n",
       "      <td>88</td>\n",
       "      <td>FC Bayern München</td>\n",
       "      <td>https://cdn.sofifa.com/teams/21/30.png</td>\n",
       "      <td>...</td>\n",
       "      <td>77.0</td>\n",
       "      <td>13.0</td>\n",
       "      <td>8.0</td>\n",
       "      <td>15.0</td>\n",
       "      <td>11.0</td>\n",
       "      <td>9.0</td>\n",
       "      <td>CM</td>\n",
       "      <td>87.0</td>\n",
       "      <td>€160.4M</td>\n",
       "      <td>74.0</td>\n",
       "    </tr>\n",
       "    <tr>\n",
       "      <th>2</th>\n",
       "      <td>176580</td>\n",
       "      <td>L. Suárez</td>\n",
       "      <td>34</td>\n",
       "      <td>https://cdn.sofifa.com/players/176/580/22_60.png</td>\n",
       "      <td>Uruguay</td>\n",
       "      <td>https://cdn.sofifa.com/flags/uy.png</td>\n",
       "      <td>88</td>\n",
       "      <td>88</td>\n",
       "      <td>Atlético de Madrid</td>\n",
       "      <td>https://cdn.sofifa.com/teams/240/30.png</td>\n",
       "      <td>...</td>\n",
       "      <td>38.0</td>\n",
       "      <td>27.0</td>\n",
       "      <td>25.0</td>\n",
       "      <td>31.0</td>\n",
       "      <td>33.0</td>\n",
       "      <td>37.0</td>\n",
       "      <td>ST</td>\n",
       "      <td>88.0</td>\n",
       "      <td>€91.2M</td>\n",
       "      <td>42.0</td>\n",
       "    </tr>\n",
       "    <tr>\n",
       "      <th>3</th>\n",
       "      <td>192985</td>\n",
       "      <td>K. De Bruyne</td>\n",
       "      <td>30</td>\n",
       "      <td>https://cdn.sofifa.com/players/192/985/22_60.png</td>\n",
       "      <td>Belgium</td>\n",
       "      <td>https://cdn.sofifa.com/flags/be.png</td>\n",
       "      <td>91</td>\n",
       "      <td>91</td>\n",
       "      <td>Manchester City</td>\n",
       "      <td>https://cdn.sofifa.com/teams/10/30.png</td>\n",
       "      <td>...</td>\n",
       "      <td>53.0</td>\n",
       "      <td>15.0</td>\n",
       "      <td>13.0</td>\n",
       "      <td>5.0</td>\n",
       "      <td>10.0</td>\n",
       "      <td>13.0</td>\n",
       "      <td>CM</td>\n",
       "      <td>91.0</td>\n",
       "      <td>€232.2M</td>\n",
       "      <td>68.0</td>\n",
       "    </tr>\n",
       "    <tr>\n",
       "      <th>4</th>\n",
       "      <td>224334</td>\n",
       "      <td>M. Acuña</td>\n",
       "      <td>29</td>\n",
       "      <td>https://cdn.sofifa.com/players/224/334/22_60.png</td>\n",
       "      <td>Argentina</td>\n",
       "      <td>https://cdn.sofifa.com/flags/ar.png</td>\n",
       "      <td>84</td>\n",
       "      <td>84</td>\n",
       "      <td>Sevilla FC</td>\n",
       "      <td>https://cdn.sofifa.com/teams/481/30.png</td>\n",
       "      <td>...</td>\n",
       "      <td>82.0</td>\n",
       "      <td>8.0</td>\n",
       "      <td>14.0</td>\n",
       "      <td>13.0</td>\n",
       "      <td>13.0</td>\n",
       "      <td>14.0</td>\n",
       "      <td>LB</td>\n",
       "      <td>84.0</td>\n",
       "      <td>€77.7M</td>\n",
       "      <td>80.0</td>\n",
       "    </tr>\n",
       "  </tbody>\n",
       "</table>\n",
       "<p>5 rows × 65 columns</p>\n",
       "</div>"
      ],
      "text/plain": [
       "       ID             Name  Age  \\\n",
       "0  212198  Bruno Fernandes   26   \n",
       "1  209658      L. Goretzka   26   \n",
       "2  176580        L. Suárez   34   \n",
       "3  192985     K. De Bruyne   30   \n",
       "4  224334         M. Acuña   29   \n",
       "\n",
       "                                              Photo Nationality  \\\n",
       "0  https://cdn.sofifa.com/players/212/198/22_60.png    Portugal   \n",
       "1  https://cdn.sofifa.com/players/209/658/22_60.png     Germany   \n",
       "2  https://cdn.sofifa.com/players/176/580/22_60.png     Uruguay   \n",
       "3  https://cdn.sofifa.com/players/192/985/22_60.png     Belgium   \n",
       "4  https://cdn.sofifa.com/players/224/334/22_60.png   Argentina   \n",
       "\n",
       "                                  Flag  Overall  Potential  \\\n",
       "0  https://cdn.sofifa.com/flags/pt.png       88         89   \n",
       "1  https://cdn.sofifa.com/flags/de.png       87         88   \n",
       "2  https://cdn.sofifa.com/flags/uy.png       88         88   \n",
       "3  https://cdn.sofifa.com/flags/be.png       91         91   \n",
       "4  https://cdn.sofifa.com/flags/ar.png       84         84   \n",
       "\n",
       "                 Club                                Club Logo  ...  \\\n",
       "0   Manchester United   https://cdn.sofifa.com/teams/11/30.png  ...   \n",
       "1   FC Bayern München   https://cdn.sofifa.com/teams/21/30.png  ...   \n",
       "2  Atlético de Madrid  https://cdn.sofifa.com/teams/240/30.png  ...   \n",
       "3     Manchester City   https://cdn.sofifa.com/teams/10/30.png  ...   \n",
       "4          Sevilla FC  https://cdn.sofifa.com/teams/481/30.png  ...   \n",
       "\n",
       "  SlidingTackle GKDiving  GKHandling GKKicking  GKPositioning  GKReflexes  \\\n",
       "0          65.0     12.0        14.0      15.0            8.0        14.0   \n",
       "1          77.0     13.0         8.0      15.0           11.0         9.0   \n",
       "2          38.0     27.0        25.0      31.0           33.0        37.0   \n",
       "3          53.0     15.0        13.0       5.0           10.0        13.0   \n",
       "4          82.0      8.0        14.0      13.0           13.0        14.0   \n",
       "\n",
       "   Best Position Best Overall Rating Release Clause DefensiveAwareness  \n",
       "0            CAM                88.0        €206.9M               72.0  \n",
       "1             CM                87.0        €160.4M               74.0  \n",
       "2             ST                88.0         €91.2M               42.0  \n",
       "3             CM                91.0        €232.2M               68.0  \n",
       "4             LB                84.0         €77.7M               80.0  \n",
       "\n",
       "[5 rows x 65 columns]"
      ]
     },
     "execution_count": 5,
     "metadata": {},
     "output_type": "execute_result"
    }
   ],
   "source": [
    "fifa.head()"
   ]
  },
  {
   "cell_type": "code",
   "execution_count": 6,
   "metadata": {},
   "outputs": [
    {
     "data": {
      "text/plain": [
       "<bound method NDFrame.describe of            ID             Name  Age  \\\n",
       "0      212198  Bruno Fernandes   26   \n",
       "1      209658      L. Goretzka   26   \n",
       "2      176580        L. Suárez   34   \n",
       "3      192985     K. De Bruyne   30   \n",
       "4      224334         M. Acuña   29   \n",
       "...       ...              ...  ...   \n",
       "16705  240558    18 L. Clayton   17   \n",
       "16706  262846         �. Dobre   20   \n",
       "16707  241317   21 Xue Qinghao   19   \n",
       "16708  259646        A. Shaikh   18   \n",
       "16709  178453    07 A. Censori   17   \n",
       "\n",
       "                                                  Photo Nationality  \\\n",
       "0      https://cdn.sofifa.com/players/212/198/22_60.png    Portugal   \n",
       "1      https://cdn.sofifa.com/players/209/658/22_60.png     Germany   \n",
       "2      https://cdn.sofifa.com/players/176/580/22_60.png     Uruguay   \n",
       "3      https://cdn.sofifa.com/players/192/985/22_60.png     Belgium   \n",
       "4      https://cdn.sofifa.com/players/224/334/22_60.png   Argentina   \n",
       "...                                                 ...         ...   \n",
       "16705  https://cdn.sofifa.com/players/240/558/18_60.png     England   \n",
       "16706  https://cdn.sofifa.com/players/262/846/22_60.png     Romania   \n",
       "16707  https://cdn.sofifa.com/players/241/317/21_60.png    China PR   \n",
       "16708  https://cdn.sofifa.com/players/259/646/22_60.png       India   \n",
       "16709  https://cdn.sofifa.com/players/178/453/07_60.png       Italy   \n",
       "\n",
       "                                          Flag  Overall  Potential  \\\n",
       "0          https://cdn.sofifa.com/flags/pt.png       88         89   \n",
       "1          https://cdn.sofifa.com/flags/de.png       87         88   \n",
       "2          https://cdn.sofifa.com/flags/uy.png       88         88   \n",
       "3          https://cdn.sofifa.com/flags/be.png       91         91   \n",
       "4          https://cdn.sofifa.com/flags/ar.png       84         84   \n",
       "...                                        ...      ...        ...   \n",
       "16705  https://cdn.sofifa.com/flags/gb-eng.png       53         70   \n",
       "16706      https://cdn.sofifa.com/flags/ro.png       53         63   \n",
       "16707      https://cdn.sofifa.com/flags/cn.png       47         60   \n",
       "16708      https://cdn.sofifa.com/flags/in.png       47         67   \n",
       "16709      https://cdn.sofifa.com/flags/it.png       28         38   \n",
       "\n",
       "                        Club                                   Club Logo  ...  \\\n",
       "0          Manchester United      https://cdn.sofifa.com/teams/11/30.png  ...   \n",
       "1          FC Bayern München      https://cdn.sofifa.com/teams/21/30.png  ...   \n",
       "2         Atlético de Madrid     https://cdn.sofifa.com/teams/240/30.png  ...   \n",
       "3            Manchester City      https://cdn.sofifa.com/teams/10/30.png  ...   \n",
       "4                 Sevilla FC     https://cdn.sofifa.com/teams/481/30.png  ...   \n",
       "...                      ...                                         ...  ...   \n",
       "16705        Cheltenham Town    https://cdn.sofifa.com/teams/1936/30.png  ...   \n",
       "16706  FC Academica Clinceni  https://cdn.sofifa.com/teams/113391/30.png  ...   \n",
       "16707    Shanghai Shenhua FC  https://cdn.sofifa.com/teams/110955/30.png  ...   \n",
       "16708     ATK Mohun Bagan FC  https://cdn.sofifa.com/teams/113146/30.png  ...   \n",
       "16709                 Arezzo  https://cdn.sofifa.com/teams/110907/30.png  ...   \n",
       "\n",
       "      SlidingTackle GKDiving  GKHandling GKKicking  GKPositioning  GKReflexes  \\\n",
       "0              65.0     12.0        14.0      15.0            8.0        14.0   \n",
       "1              77.0     13.0         8.0      15.0           11.0         9.0   \n",
       "2              38.0     27.0        25.0      31.0           33.0        37.0   \n",
       "3              53.0     15.0        13.0       5.0           10.0        13.0   \n",
       "4              82.0      8.0        14.0      13.0           13.0        14.0   \n",
       "...             ...      ...         ...       ...            ...         ...   \n",
       "16705          12.0     55.0        54.0      52.0           50.0        59.0   \n",
       "16706          12.0     57.0        52.0      53.0           48.0        58.0   \n",
       "16707           9.0     49.0        48.0      45.0           38.0        52.0   \n",
       "16708          13.0     49.0        41.0      39.0           45.0        49.0   \n",
       "16709           NaN      7.0         1.0      36.0            6.0         9.0   \n",
       "\n",
       "       Best Position Best Overall Rating Release Clause DefensiveAwareness  \n",
       "0                CAM                88.0        €206.9M               72.0  \n",
       "1                 CM                87.0        €160.4M               74.0  \n",
       "2                 ST                88.0         €91.2M               42.0  \n",
       "3                 CM                91.0        €232.2M               68.0  \n",
       "4                 LB                84.0         €77.7M               80.0  \n",
       "...              ...                 ...            ...                ...  \n",
       "16705             GK                52.0          €238K                NaN  \n",
       "16706             GK                53.0          €279K                5.0  \n",
       "16707             GK                47.0          €223K               21.0  \n",
       "16708             GK                47.0          €259K                7.0  \n",
       "16709             ST                36.0            NaN                NaN  \n",
       "\n",
       "[16710 rows x 65 columns]>"
      ]
     },
     "execution_count": 6,
     "metadata": {},
     "output_type": "execute_result"
    }
   ],
   "source": [
    "fifa.describe"
   ]
  },
  {
   "cell_type": "code",
   "execution_count": null,
   "metadata": {},
   "outputs": [],
   "source": []
  }
 ],
 "metadata": {
  "kernelspec": {
   "display_name": "Python 3.7.4 64-bit",
   "language": "python",
   "name": "python3"
  },
  "language_info": {
   "codemirror_mode": {
    "name": "ipython",
    "version": 3
   },
   "file_extension": ".py",
   "mimetype": "text/x-python",
   "name": "python",
   "nbconvert_exporter": "python",
   "pygments_lexer": "ipython3",
   "version": "3.7.4"
  },
  "orig_nbformat": 4,
  "vscode": {
   "interpreter": {
    "hash": "aee8b7b246df8f9039afb4144a1f6fd8d2ca17a180786b69acc140d282b71a49"
   }
  }
 },
 "nbformat": 4,
 "nbformat_minor": 2
}
